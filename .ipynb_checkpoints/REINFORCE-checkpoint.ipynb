{
 "cells": [
  {
   "cell_type": "markdown",
   "id": "65e3dd29",
   "metadata": {},
   "source": [
    "# REINFORCE Algorithm In Policy Gradient Methods\n",
    "Implementation of REINFORCE to solve OpenAI Gym's CartPole environment.\n",
    "\n",
    "Policy gradient methos are very similar to supervised learning.\n",
    "The dataset varies by episode. so we use the policy to collect an episode, that gives up a Dataset or a bunch of matched state action pairs, and then we use that data set once to do a batch of updates. After those updates are done, we will discard the dataset and then collect another episode which gives us another dataset and so on.\n",
    "\n",
    "In the implementation, each trajectory corresponds to a full episode, and we collect m=1 trajectories.\n",
    "\n",
    "### Import the Necessary Packages"
   ]
  },
  {
   "cell_type": "code",
   "execution_count": 1,
   "id": "b748c85a",
   "metadata": {},
   "outputs": [
    {
     "name": "stdout",
     "output_type": "stream",
     "text": [
      "Requirement already satisfied: pyvirtualdisplay in /home/eight/anaconda3/envs/torchunity/lib/python3.6/site-packages (3.0)\r\n"
     ]
    }
   ],
   "source": [
    "import gym\n",
    "gym.logger.set_level(40)# * suppress warnings\n",
    "\n",
    "import numpy as np\n",
    "from collections import deque\n",
    "import matplotlib.pyplot as plt\n",
    "%matplotlib inline\n",
    "\n",
    "\n",
    "import torch\n",
    "import torch.nn as nn\n",
    "import torch.nn.functional as F\n",
    "import torch.optim as optim\n",
    "from torch.distributions import Categorical\n",
    "\n",
    "!python -m pip install pyvirtualdisplay\n",
    "from pyvirtualdisplay import Display\n",
    "display = Display(visible=0, size=(1400,900))\n",
    "display.start()\n",
    "\n",
    "is_ipython = 'inline' in plt.get_backend()\n",
    "if is_ipython:\n",
    "    from IPython import display\n",
    "\n",
    "plt.ion()"
   ]
  },
  {
   "cell_type": "markdown",
   "id": "148d9799",
   "metadata": {},
   "source": [
    "# Specify the Environment, and Explore the State and Action Spaces\n",
    "Create an environment and set random seed"
   ]
  },
  {
   "cell_type": "code",
   "execution_count": 2,
   "id": "119f614c",
   "metadata": {
    "scrolled": true
   },
   "outputs": [
    {
     "name": "stdout",
     "output_type": "stream",
     "text": [
      "State space:  Box([-4.8000002e+00 -3.4028235e+38 -4.1887903e-01 -3.4028235e+38], [4.8000002e+00 3.4028235e+38 4.1887903e-01 3.4028235e+38], (4,), float32)\n",
      "State shape:  (4,)\n",
      "- low:  [-4.8000002e+00 -3.4028235e+38 -4.1887903e-01 -3.4028235e+38]\n",
      "- high:  [4.8000002e+00 3.4028235e+38 4.1887903e-01 3.4028235e+38]\n",
      "\n",
      "State space samples: \n",
      " [[ 2.7017179e+00 -1.6902301e+38  3.1281418e-01 -1.5271087e+38]\n",
      " [-2.9043288e+00 -2.7898825e+37 -3.7690887e-01  8.0335156e+37]\n",
      " [-2.3042202e+00 -6.8004627e+37  3.4367836e-01 -1.4089729e+38]\n",
      " [ 3.1407893e+00 -4.1844946e+37  8.4700510e-02  1.9894041e+37]\n",
      " [-4.7194571e+00 -2.8957397e+38 -3.9827847e-01 -2.9486322e+38]\n",
      " [ 3.6586030e+00  1.6785788e+38  9.0240270e-02 -1.9531441e+38]\n",
      " [ 1.5836556e+00 -3.2957198e+38 -3.1317246e-01 -2.1368003e+37]\n",
      " [ 6.9215071e-01  1.0632636e+38 -1.5940155e-01  1.0280529e+38]\n",
      " [ 2.1004057e+00  1.8171825e+37  1.8791193e-01  1.6120563e+38]\n",
      " [ 4.1341075e-01  5.8655360e+37 -7.9865269e-02 -4.5683029e+37]]\n",
      "\n",
      "\n",
      "\n",
      "Action space: Discrete(2)\n",
      "Action shape: ()\n",
      "Action space samples:\n",
      "[1 0 1 0 0 1 0 0 1 1]\n"
     ]
    }
   ],
   "source": [
    "\n",
    "# Create an environment and set random seed\n",
    "env = gym.make('CartPole-v1')\n",
    "env.seed(0)\n",
    "torch.manual_seed(0)\n",
    "\n",
    "# Explore state (observation) space\n",
    "print(\"State space: \", env.observation_space)\n",
    "print(\"State shape: \", env.observation_space.shape)\n",
    "print(\"- low: \", env.observation_space.low)\n",
    "print(\"- high: \", env.observation_space.high)\n",
    "print(\"\")\n",
    "# Generate some samples from the state space \n",
    "print(\"State space samples: \\n\", np.array([env.observation_space.sample() for i in range(10)]))\n",
    "\n",
    "print(\"\\n\\n\")\n",
    "\n",
    "# Explore the action space\n",
    "print(\"Action space:\", env.action_space)\n",
    "print(\"Action shape:\", env.action_space.shape)\n",
    "# Generate some samples from the action space\n",
    "print(\"Action space samples:\")\n",
    "print(np.array([env.action_space.sample() for i in range(10)]))"
   ]
  },
  {
   "cell_type": "markdown",
   "id": "faece026",
   "metadata": {},
   "source": [
    "### Define the Architecture of the Policy"
   ]
  },
  {
   "cell_type": "code",
   "execution_count": 3,
   "id": "e6c46d1b",
   "metadata": {},
   "outputs": [],
   "source": [
    "###########################################\n",
    "env = gym.make('CartPole-v0')\n",
    "env.seed(0)\n",
    "\n",
    "class Policy(nn.Module):\n",
    "    def __init__(self, s_size=4, h_size=16, a_size=2):\n",
    "        super(Policy, self).__init__()\n",
    "        self.fc1 = nn.Linear(s_size, h_size)\n",
    "        self.fc2 = nn.Linear(h_size, a_size)\n",
    "        \n",
    "    def forward(self, x):\n",
    "        x = F.relu(self.fc1(x))\n",
    "        x = self.fc2(x)\n",
    "        return F.softmax(x, dim=1)\n",
    "    \n",
    "    def act(self, state):\n",
    "        '''\n",
    "        Return actions for given state as per current policy.\n",
    "        \n",
    "        Params\n",
    "        ======\n",
    "            state (array_like): current state\n",
    "        '''\n",
    "        state = torch.from_numpy(state).float().unsqueeze(0).to(device)\n",
    "        \n",
    "        probs = self.forward(state).cpu()\n",
    "        m = Categorical(probs)\n",
    "        action = m.sample()\n",
    "        return action.item(), m.log_prob(action)\n",
    "    \n",
    "    "
   ]
  },
  {
   "cell_type": "markdown",
   "id": "23e3010d",
   "metadata": {},
   "source": [
    "# Build a Agent with REINFORCE to Train\n"
   ]
  },
  {
   "cell_type": "code",
   "execution_count": 4,
   "id": "cf696393",
   "metadata": {},
   "outputs": [],
   "source": [
    "def reinforce(n_episodes=1000, max_t=1000, gamma=1.0, print_every=100):\n",
    "    scores_deque = deque(maxlen=100)\n",
    "    scores = []\n",
    "    \n",
    "    for i_episode in range(1, n_episodes+1):\n",
    "        saved_log_probs = []\n",
    "        rewards = []\n",
    "        \n",
    "        state = env.reset()\n",
    "        for t in range(max_t):\n",
    "            action, log_prob = policy.act(state)\n",
    "            saved_log_probs.append(log_prob)                  # Collect log probs\n",
    "            state, reward, done, _ = env.step(action)\n",
    "            rewards.append(reward)\n",
    "            if done:\n",
    "                break\n",
    "        scores_deque.append(sum(rewards))\n",
    "        scores.append(sum(rewards))\n",
    "        \n",
    "        discounts = [gamma**i for i in range(len(rewards)+1)] # Set discount rate\n",
    "        R = sum([a*b for a,b in zip(discounts, rewards)])\n",
    "        \n",
    "        policy_loss = []\n",
    "        for log_prob in saved_log_probs:\n",
    "            policy_loss.append(-log_prob * R)\n",
    "        policy_loss = torch.cat(policy_loss).sum()\n",
    "        \n",
    "        optimizer.zero_grad()\n",
    "        policy_loss.backward()\n",
    "        optimizer.step()\n",
    "        \n",
    "        # monitor\n",
    "        if i_episode % print_every == 0:\n",
    "            print('Episode {}\\tAverage Score: {:.2f}'.format(i_episode, np.mean(scores_deque)))\n",
    "        if np.mean(scores_deque)>=195.0:\n",
    "            print('Environment solved in {:d} episodes!\\tAverage Score: {:.2f}'.format(i_episode-100, np.mean(scores_deque)))\n",
    "            break\n",
    "        \n",
    "    return scores\n",
    "        "
   ]
  },
  {
   "cell_type": "markdown",
   "id": "87e63c34",
   "metadata": {},
   "source": [
    "# Begin Training"
   ]
  },
  {
   "cell_type": "code",
   "execution_count": 5,
   "id": "239c3b19",
   "metadata": {},
   "outputs": [
    {
     "name": "stdout",
     "output_type": "stream",
     "text": [
      "Episode 100\tAverage Score: 34.47\n",
      "Episode 200\tAverage Score: 66.26\n",
      "Episode 300\tAverage Score: 87.82\n",
      "Episode 400\tAverage Score: 72.83\n",
      "Episode 500\tAverage Score: 172.00\n",
      "Episode 600\tAverage Score: 160.65\n",
      "Episode 700\tAverage Score: 167.15\n",
      "Environment solved in 691 episodes!\tAverage Score: 196.69\n"
     ]
    }
   ],
   "source": [
    "# Set torch device\n",
    "device = torch.device(\"cuda:0\" if torch.cuda.is_available() else \"cpu\")\n",
    "\n",
    "policy = Policy().to(device)\n",
    "optimizer = optim.Adam(policy.parameters(), lr=1e-2)\n",
    "\n",
    "scores = reinforce()"
   ]
  },
  {
   "cell_type": "markdown",
   "id": "6b627a65",
   "metadata": {},
   "source": [
    "### Plot Scores\n"
   ]
  },
  {
   "cell_type": "code",
   "execution_count": 6,
   "id": "a4e778fa",
   "metadata": {},
   "outputs": [
    {
     "data": {
      "image/png": "[encoded data removed]",
      "text/plain": [
       "<Figure size 432x288 with 1 Axes>"
      ]
     },
     "metadata": {
      "needs_background": "light"
     },
     "output_type": "display_data"
    }
   ],
   "source": [
    "fig = plt.figure()\n",
    "ax = fig.add_subplot(111)\n",
    "plt.plot(np.arange(1, len(scores)+1), scores)\n",
    "plt.ylabel('Score')\n",
    "plt.xlabel('Episode #')\n",
    "plt.show()"
   ]
  },
  {
   "cell_type": "markdown",
   "id": "bd68d9ed",
   "metadata": {},
   "source": [
    "# Simulate Trained Agent"
   ]
  },
  {
   "cell_type": "code",
   "execution_count": 8,
   "id": "75f55722",
   "metadata": {},
   "outputs": [
    {
     "data": {
      "image/png": "[encoded data removed]",
      "text/plain": [
       "<Figure size 432x288 with 1 Axes>"
      ]
     },
     "metadata": {
      "needs_background": "light"
     },
     "output_type": "display_data"
    }
   ],
   "source": [
    "env = gym.make('CartPole-v0')\n",
    "\n",
    "state = env.reset()\n",
    "img = plt.imshow(env.render(mode='rgb_array'))\n",
    "for t in range(1000):\n",
    "    action, _ = policy.act(state)\n",
    "    img.set_data(env.render(mode='rgb_array')) \n",
    "    plt.axis('off')\n",
    "    display.display(plt.gcf())\n",
    "    display.clear_output(wait=True)\n",
    "    state, reward, done, _ = env.step(action)\n",
    "    if done:\n",
    "        break \n",
    "\n",
    "env.close()"
   ]
  },
  {
   "cell_type": "code",
   "execution_count": null,
   "id": "f3f2d592",
   "metadata": {},
   "outputs": [],
   "source": []
  },
  {
   "cell_type": "code",
   "execution_count": null,
   "id": "96add651",
   "metadata": {},
   "outputs": [],
   "source": []
  }
 ],
 "metadata": {
  "kernelspec": {
   "display_name": "Python 3",
   "language": "python",
   "name": "python3"
  },
  "language_info": {
   "codemirror_mode": {
    "name": "ipython",
    "version": 3
   },
   "file_extension": ".py",
   "mimetype": "text/x-python",
   "name": "python",
   "nbconvert_exporter": "python",
   "pygments_lexer": "ipython3",
   "version": "3.6.13"
  }
 },
 "nbformat": 4,
 "nbformat_minor": 5
}
